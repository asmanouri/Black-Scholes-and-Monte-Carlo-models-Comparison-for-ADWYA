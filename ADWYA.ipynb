{
 "cells": [
  {
   "cell_type": "code",
   "execution_count": 4,
   "metadata": {},
   "outputs": [],
   "source": [
    "import pandas as pd\n",
    "import numpy as np\n",
    "from scipy import stats\n",
    "from statsmodels.stats.diagnostic import acorr_ljungbox\n",
    "import matplotlib.pyplot as plt\n",
    "from matplotlib import style\n",
    "import  seaborn as sns\n",
    "\n",
    "plt.style.use('ggplot')"
   ]
  },
  {
   "cell_type": "code",
   "execution_count": 5,
   "metadata": {},
   "outputs": [
    {
     "data": {
      "text/html": [
       "<div>\n",
       "<style scoped>\n",
       "    .dataframe tbody tr th:only-of-type {\n",
       "        vertical-align: middle;\n",
       "    }\n",
       "\n",
       "    .dataframe tbody tr th {\n",
       "        vertical-align: top;\n",
       "    }\n",
       "\n",
       "    .dataframe thead th {\n",
       "        text-align: right;\n",
       "    }\n",
       "</style>\n",
       "<table border=\"1\" class=\"dataframe\">\n",
       "  <thead>\n",
       "    <tr style=\"text-align: right;\">\n",
       "      <th></th>\n",
       "      <th>SEANCE</th>\n",
       "      <th>GROUPE</th>\n",
       "      <th>CODE</th>\n",
       "      <th>VALEUR</th>\n",
       "      <th>OUVERTURE</th>\n",
       "      <th>CLOTURE</th>\n",
       "      <th>PLUS_BAS</th>\n",
       "      <th>PLUS_HAUT</th>\n",
       "      <th>QUANTITE_NEGOCIEE</th>\n",
       "      <th>NB_TRANSACTION</th>\n",
       "      <th>CAPITAUX</th>\n",
       "      <th>IND_RES</th>\n",
       "      <th>DIVIDENDE</th>\n",
       "    </tr>\n",
       "  </thead>\n",
       "  <tbody>\n",
       "    <tr>\n",
       "      <th>0</th>\n",
       "      <td>----------</td>\n",
       "      <td>-------</td>\n",
       "      <td>------</td>\n",
       "      <td>------------------</td>\n",
       "      <td>-----------</td>\n",
       "      <td>-----------</td>\n",
       "      <td>-----------</td>\n",
       "      <td>-----------</td>\n",
       "      <td>------------------</td>\n",
       "      <td>---------------</td>\n",
       "      <td>-----------------</td>\n",
       "      <td>-------</td>\n",
       "      <td>NaN</td>\n",
       "    </tr>\n",
       "    <tr>\n",
       "      <th>1</th>\n",
       "      <td>2017-02-01 00:00:00</td>\n",
       "      <td>11</td>\n",
       "      <td>100010</td>\n",
       "      <td>MONOPRIX</td>\n",
       "      <td>9.8</td>\n",
       "      <td>9.8</td>\n",
       "      <td>9.55</td>\n",
       "      <td>9.8</td>\n",
       "      <td>3055</td>\n",
       "      <td>9</td>\n",
       "      <td>29189</td>\n",
       "      <td>NaN</td>\n",
       "      <td>NaN</td>\n",
       "    </tr>\n",
       "    <tr>\n",
       "      <th>2</th>\n",
       "      <td>2017-02-01 00:00:00</td>\n",
       "      <td>11</td>\n",
       "      <td>110025</td>\n",
       "      <td>SFBT</td>\n",
       "      <td>19.2</td>\n",
       "      <td>19.4</td>\n",
       "      <td>19</td>\n",
       "      <td>19.5</td>\n",
       "      <td>3821</td>\n",
       "      <td>31</td>\n",
       "      <td>72703.6</td>\n",
       "      <td>NaN</td>\n",
       "      <td>NaN</td>\n",
       "    </tr>\n",
       "    <tr>\n",
       "      <th>3</th>\n",
       "      <td>2017-02-01 00:00:00</td>\n",
       "      <td>11</td>\n",
       "      <td>120040</td>\n",
       "      <td>TUNISAIR</td>\n",
       "      <td>0.6</td>\n",
       "      <td>0.6</td>\n",
       "      <td>0.59</td>\n",
       "      <td>0.6</td>\n",
       "      <td>4651</td>\n",
       "      <td>8</td>\n",
       "      <td>2790.4</td>\n",
       "      <td>NaN</td>\n",
       "      <td>NaN</td>\n",
       "    </tr>\n",
       "    <tr>\n",
       "      <th>4</th>\n",
       "      <td>2017-02-01 00:00:00</td>\n",
       "      <td>11</td>\n",
       "      <td>160015</td>\n",
       "      <td>ATTIJARI BANK</td>\n",
       "      <td>27.39</td>\n",
       "      <td>27.1</td>\n",
       "      <td>27.02</td>\n",
       "      <td>27.39</td>\n",
       "      <td>1726</td>\n",
       "      <td>18</td>\n",
       "      <td>46802.4</td>\n",
       "      <td>NaN</td>\n",
       "      <td>NaN</td>\n",
       "    </tr>\n",
       "    <tr>\n",
       "      <th>...</th>\n",
       "      <td>...</td>\n",
       "      <td>...</td>\n",
       "      <td>...</td>\n",
       "      <td>...</td>\n",
       "      <td>...</td>\n",
       "      <td>...</td>\n",
       "      <td>...</td>\n",
       "      <td>...</td>\n",
       "      <td>...</td>\n",
       "      <td>...</td>\n",
       "      <td>...</td>\n",
       "      <td>...</td>\n",
       "      <td>...</td>\n",
       "    </tr>\n",
       "    <tr>\n",
       "      <th>285867</th>\n",
       "      <td>2019-12-31 00:00:00</td>\n",
       "      <td>52</td>\n",
       "      <td>750001</td>\n",
       "      <td>AETECH</td>\n",
       "      <td>0</td>\n",
       "      <td>0.33</td>\n",
       "      <td>0</td>\n",
       "      <td>0</td>\n",
       "      <td>0</td>\n",
       "      <td>0</td>\n",
       "      <td>NaN</td>\n",
       "      <td>NaN</td>\n",
       "      <td>NaN</td>\n",
       "    </tr>\n",
       "    <tr>\n",
       "      <th>285868</th>\n",
       "      <td>2019-12-31 00:00:00</td>\n",
       "      <td>52</td>\n",
       "      <td>766001</td>\n",
       "      <td>MAGHREB INTERN</td>\n",
       "      <td>0.22</td>\n",
       "      <td>0.22</td>\n",
       "      <td>0.22</td>\n",
       "      <td>0.22</td>\n",
       "      <td>525</td>\n",
       "      <td>2</td>\n",
       "      <td>115.5</td>\n",
       "      <td>NaN</td>\n",
       "      <td>NaN</td>\n",
       "    </tr>\n",
       "    <tr>\n",
       "      <th>285869</th>\n",
       "      <td>2019-12-31 00:00:00</td>\n",
       "      <td>52</td>\n",
       "      <td>773001</td>\n",
       "      <td>SANIMED</td>\n",
       "      <td>0</td>\n",
       "      <td>1.85</td>\n",
       "      <td>0</td>\n",
       "      <td>0</td>\n",
       "      <td>0</td>\n",
       "      <td>0</td>\n",
       "      <td>NaN</td>\n",
       "      <td>NaN</td>\n",
       "      <td>NaN</td>\n",
       "    </tr>\n",
       "    <tr>\n",
       "      <th>285870</th>\n",
       "      <td>2019-12-31 00:00:00</td>\n",
       "      <td>52</td>\n",
       "      <td>760001</td>\n",
       "      <td>SOTEMAIL</td>\n",
       "      <td>2.9</td>\n",
       "      <td>2.9</td>\n",
       "      <td>2.9</td>\n",
       "      <td>2.9</td>\n",
       "      <td>1000</td>\n",
       "      <td>3</td>\n",
       "      <td>2900</td>\n",
       "      <td>NaN</td>\n",
       "      <td>NaN</td>\n",
       "    </tr>\n",
       "    <tr>\n",
       "      <th>285871</th>\n",
       "      <td>2019-12-31 00:00:00</td>\n",
       "      <td>99</td>\n",
       "      <td>503001</td>\n",
       "      <td>STIP</td>\n",
       "      <td>0</td>\n",
       "      <td>1.1</td>\n",
       "      <td>0</td>\n",
       "      <td>0</td>\n",
       "      <td>0</td>\n",
       "      <td>0</td>\n",
       "      <td>NaN</td>\n",
       "      <td>NaN</td>\n",
       "      <td>NaN</td>\n",
       "    </tr>\n",
       "  </tbody>\n",
       "</table>\n",
       "<p>285872 rows × 13 columns</p>\n",
       "</div>"
      ],
      "text/plain": [
       "                     SEANCE   GROUPE    CODE              VALEUR    OUVERTURE  \\\n",
       "0                ----------  -------  ------  ------------------  -----------   \n",
       "1       2017-02-01 00:00:00       11  100010            MONOPRIX          9.8   \n",
       "2       2017-02-01 00:00:00       11  110025                SFBT         19.2   \n",
       "3       2017-02-01 00:00:00       11  120040            TUNISAIR          0.6   \n",
       "4       2017-02-01 00:00:00       11  160015       ATTIJARI BANK        27.39   \n",
       "...                     ...      ...     ...                 ...          ...   \n",
       "285867  2019-12-31 00:00:00       52  750001              AETECH            0   \n",
       "285868  2019-12-31 00:00:00       52  766001      MAGHREB INTERN         0.22   \n",
       "285869  2019-12-31 00:00:00       52  773001             SANIMED            0   \n",
       "285870  2019-12-31 00:00:00       52  760001            SOTEMAIL          2.9   \n",
       "285871  2019-12-31 00:00:00       99  503001                STIP            0   \n",
       "\n",
       "            CLOTURE     PLUS_BAS    PLUS_HAUT   QUANTITE_NEGOCIEE  \\\n",
       "0       -----------  -----------  -----------  ------------------   \n",
       "1               9.8         9.55          9.8                3055   \n",
       "2              19.4           19         19.5                3821   \n",
       "3               0.6         0.59          0.6                4651   \n",
       "4              27.1        27.02        27.39                1726   \n",
       "...             ...          ...          ...                 ...   \n",
       "285867         0.33            0            0                   0   \n",
       "285868         0.22         0.22         0.22                 525   \n",
       "285869         1.85            0            0                   0   \n",
       "285870          2.9          2.9          2.9                1000   \n",
       "285871          1.1            0            0                   0   \n",
       "\n",
       "         NB_TRANSACTION           CAPITAUX  IND_RES  DIVIDENDE  \n",
       "0       ---------------  -----------------  -------        NaN  \n",
       "1                     9              29189      NaN        NaN  \n",
       "2                    31            72703.6      NaN        NaN  \n",
       "3                     8             2790.4      NaN        NaN  \n",
       "4                    18            46802.4      NaN        NaN  \n",
       "...                 ...                ...      ...        ...  \n",
       "285867                0                NaN      NaN        NaN  \n",
       "285868                2              115.5      NaN        NaN  \n",
       "285869                0                NaN      NaN        NaN  \n",
       "285870                3               2900      NaN        NaN  \n",
       "285871                0                NaN      NaN        NaN  \n",
       "\n",
       "[285872 rows x 13 columns]"
      ]
     },
     "execution_count": 5,
     "metadata": {},
     "output_type": "execute_result"
    }
   ],
   "source": [
    "data = pd.concat(pd.read_excel('histo_cotation_2017_2018_2019.xlsx', sheet_name=None), ignore_index=True)\n",
    "data"
   ]
  },
  {
   "cell_type": "code",
   "execution_count": 6,
   "metadata": {},
   "outputs": [
    {
     "data": {
      "text/html": [
       "<div>\n",
       "<style scoped>\n",
       "    .dataframe tbody tr th:only-of-type {\n",
       "        vertical-align: middle;\n",
       "    }\n",
       "\n",
       "    .dataframe tbody tr th {\n",
       "        vertical-align: top;\n",
       "    }\n",
       "\n",
       "    .dataframe thead th {\n",
       "        text-align: right;\n",
       "    }\n",
       "</style>\n",
       "<table border=\"1\" class=\"dataframe\">\n",
       "  <thead>\n",
       "    <tr style=\"text-align: right;\">\n",
       "      <th></th>\n",
       "      <th>SEANCE</th>\n",
       "      <th>GROUPE</th>\n",
       "      <th>CODE</th>\n",
       "      <th>VALEUR</th>\n",
       "      <th>OUVERTURE</th>\n",
       "      <th>CLOTURE</th>\n",
       "      <th>PLUS_BAS</th>\n",
       "      <th>PLUS_HAUT</th>\n",
       "      <th>QUANTITE_NEGOCIEE</th>\n",
       "      <th>NB_TRANSACTION</th>\n",
       "      <th>CAPITAUX</th>\n",
       "      <th>IND_RES</th>\n",
       "      <th>DIVIDENDE</th>\n",
       "      <th>RENDEMENT</th>\n",
       "    </tr>\n",
       "  </thead>\n",
       "  <tbody>\n",
       "    <tr>\n",
       "      <th>34</th>\n",
       "      <td>2017-02-01 00:00:00</td>\n",
       "      <td>11</td>\n",
       "      <td>725001</td>\n",
       "      <td>ADWYA</td>\n",
       "      <td>6.37</td>\n",
       "      <td>6.27</td>\n",
       "      <td>6.27</td>\n",
       "      <td>6.37</td>\n",
       "      <td>148</td>\n",
       "      <td>3</td>\n",
       "      <td>941.26</td>\n",
       "      <td>NaN</td>\n",
       "      <td>NaN</td>\n",
       "      <td>0.0</td>\n",
       "    </tr>\n",
       "    <tr>\n",
       "      <th>546</th>\n",
       "      <td>2017-03-01 00:00:00</td>\n",
       "      <td>11</td>\n",
       "      <td>725001</td>\n",
       "      <td>ADWYA</td>\n",
       "      <td>6.28</td>\n",
       "      <td>6.28</td>\n",
       "      <td>6.28</td>\n",
       "      <td>6.28</td>\n",
       "      <td>534</td>\n",
       "      <td>5</td>\n",
       "      <td>3353.52</td>\n",
       "      <td>NaN</td>\n",
       "      <td>NaN</td>\n",
       "      <td>0.0</td>\n",
       "    </tr>\n",
       "    <tr>\n",
       "      <th>1058</th>\n",
       "      <td>2017-04-01 00:00:00</td>\n",
       "      <td>11</td>\n",
       "      <td>725001</td>\n",
       "      <td>ADWYA</td>\n",
       "      <td>6.38</td>\n",
       "      <td>6.30</td>\n",
       "      <td>6.3</td>\n",
       "      <td>6.38</td>\n",
       "      <td>3428</td>\n",
       "      <td>14</td>\n",
       "      <td>21732.2</td>\n",
       "      <td>NaN</td>\n",
       "      <td>NaN</td>\n",
       "      <td>0.0</td>\n",
       "    </tr>\n",
       "    <tr>\n",
       "      <th>1570</th>\n",
       "      <td>2017-05-01 00:00:00</td>\n",
       "      <td>11</td>\n",
       "      <td>725001</td>\n",
       "      <td>ADWYA</td>\n",
       "      <td>6.3</td>\n",
       "      <td>6.30</td>\n",
       "      <td>6.22</td>\n",
       "      <td>6.3</td>\n",
       "      <td>3724</td>\n",
       "      <td>22</td>\n",
       "      <td>23373.9</td>\n",
       "      <td>NaN</td>\n",
       "      <td>NaN</td>\n",
       "      <td>0.0</td>\n",
       "    </tr>\n",
       "    <tr>\n",
       "      <th>2082</th>\n",
       "      <td>2017-06-01 00:00:00</td>\n",
       "      <td>11</td>\n",
       "      <td>725001</td>\n",
       "      <td>ADWYA</td>\n",
       "      <td>6.29</td>\n",
       "      <td>6.30</td>\n",
       "      <td>6.23</td>\n",
       "      <td>6.35</td>\n",
       "      <td>1813</td>\n",
       "      <td>11</td>\n",
       "      <td>11445.7</td>\n",
       "      <td>NaN</td>\n",
       "      <td>NaN</td>\n",
       "      <td>0.0</td>\n",
       "    </tr>\n",
       "    <tr>\n",
       "      <th>...</th>\n",
       "      <td>...</td>\n",
       "      <td>...</td>\n",
       "      <td>...</td>\n",
       "      <td>...</td>\n",
       "      <td>...</td>\n",
       "      <td>...</td>\n",
       "      <td>...</td>\n",
       "      <td>...</td>\n",
       "      <td>...</td>\n",
       "      <td>...</td>\n",
       "      <td>...</td>\n",
       "      <td>...</td>\n",
       "      <td>...</td>\n",
       "      <td>...</td>\n",
       "    </tr>\n",
       "    <tr>\n",
       "      <th>284302</th>\n",
       "      <td>2019-12-25 00:00:00</td>\n",
       "      <td>11</td>\n",
       "      <td>725001</td>\n",
       "      <td>ADWYA</td>\n",
       "      <td>2.6</td>\n",
       "      <td>2.55</td>\n",
       "      <td>2.53</td>\n",
       "      <td>2.6</td>\n",
       "      <td>42526</td>\n",
       "      <td>88</td>\n",
       "      <td>108731</td>\n",
       "      <td>NaN</td>\n",
       "      <td>NaN</td>\n",
       "      <td>0.0</td>\n",
       "    </tr>\n",
       "    <tr>\n",
       "      <th>284616</th>\n",
       "      <td>2019-12-26 00:00:00</td>\n",
       "      <td>11</td>\n",
       "      <td>725001</td>\n",
       "      <td>ADWYA</td>\n",
       "      <td>2.59</td>\n",
       "      <td>2.55</td>\n",
       "      <td>2.52</td>\n",
       "      <td>2.59</td>\n",
       "      <td>1985</td>\n",
       "      <td>14</td>\n",
       "      <td>5003.43</td>\n",
       "      <td>NaN</td>\n",
       "      <td>NaN</td>\n",
       "      <td>0.0</td>\n",
       "    </tr>\n",
       "    <tr>\n",
       "      <th>284930</th>\n",
       "      <td>2019-12-27 00:00:00</td>\n",
       "      <td>11</td>\n",
       "      <td>725001</td>\n",
       "      <td>ADWYA</td>\n",
       "      <td>2.62</td>\n",
       "      <td>2.55</td>\n",
       "      <td>2.55</td>\n",
       "      <td>2.69</td>\n",
       "      <td>223</td>\n",
       "      <td>12</td>\n",
       "      <td>576.66</td>\n",
       "      <td>NaN</td>\n",
       "      <td>NaN</td>\n",
       "      <td>0.0</td>\n",
       "    </tr>\n",
       "    <tr>\n",
       "      <th>285244</th>\n",
       "      <td>2019-12-30 00:00:00</td>\n",
       "      <td>11</td>\n",
       "      <td>725001</td>\n",
       "      <td>ADWYA</td>\n",
       "      <td>2.62</td>\n",
       "      <td>2.55</td>\n",
       "      <td>2.55</td>\n",
       "      <td>2.65</td>\n",
       "      <td>1527</td>\n",
       "      <td>16</td>\n",
       "      <td>3935.55</td>\n",
       "      <td>NaN</td>\n",
       "      <td>NaN</td>\n",
       "      <td>0.0</td>\n",
       "    </tr>\n",
       "    <tr>\n",
       "      <th>285558</th>\n",
       "      <td>2019-12-31 00:00:00</td>\n",
       "      <td>11</td>\n",
       "      <td>725001</td>\n",
       "      <td>ADWYA</td>\n",
       "      <td>2.55</td>\n",
       "      <td>2.54</td>\n",
       "      <td>2.5</td>\n",
       "      <td>2.55</td>\n",
       "      <td>166046</td>\n",
       "      <td>123</td>\n",
       "      <td>415163</td>\n",
       "      <td>NaN</td>\n",
       "      <td>NaN</td>\n",
       "      <td>0.0</td>\n",
       "    </tr>\n",
       "  </tbody>\n",
       "</table>\n",
       "<p>739 rows × 14 columns</p>\n",
       "</div>"
      ],
      "text/plain": [
       "                     SEANCE GROUPE    CODE VALEUR OUVERTURE  CLOTURE PLUS_BAS  \\\n",
       "34      2017-02-01 00:00:00     11  725001  ADWYA      6.37     6.27     6.27   \n",
       "546     2017-03-01 00:00:00     11  725001  ADWYA      6.28     6.28     6.28   \n",
       "1058    2017-04-01 00:00:00     11  725001  ADWYA      6.38     6.30      6.3   \n",
       "1570    2017-05-01 00:00:00     11  725001  ADWYA       6.3     6.30     6.22   \n",
       "2082    2017-06-01 00:00:00     11  725001  ADWYA      6.29     6.30     6.23   \n",
       "...                     ...    ...     ...    ...       ...      ...      ...   \n",
       "284302  2019-12-25 00:00:00     11  725001  ADWYA       2.6     2.55     2.53   \n",
       "284616  2019-12-26 00:00:00     11  725001  ADWYA      2.59     2.55     2.52   \n",
       "284930  2019-12-27 00:00:00     11  725001  ADWYA      2.62     2.55     2.55   \n",
       "285244  2019-12-30 00:00:00     11  725001  ADWYA      2.62     2.55     2.55   \n",
       "285558  2019-12-31 00:00:00     11  725001  ADWYA      2.55     2.54      2.5   \n",
       "\n",
       "       PLUS_HAUT QUANTITE_NEGOCIEE NB_TRANSACTION CAPITAUX IND_RES  DIVIDENDE  \\\n",
       "34          6.37               148              3   941.26     NaN        NaN   \n",
       "546         6.28               534              5  3353.52     NaN        NaN   \n",
       "1058        6.38              3428             14  21732.2     NaN        NaN   \n",
       "1570         6.3              3724             22  23373.9     NaN        NaN   \n",
       "2082        6.35              1813             11  11445.7     NaN        NaN   \n",
       "...          ...               ...            ...      ...     ...        ...   \n",
       "284302       2.6             42526             88   108731     NaN        NaN   \n",
       "284616      2.59              1985             14  5003.43     NaN        NaN   \n",
       "284930      2.69               223             12   576.66     NaN        NaN   \n",
       "285244      2.65              1527             16  3935.55     NaN        NaN   \n",
       "285558      2.55            166046            123   415163     NaN        NaN   \n",
       "\n",
       "        RENDEMENT  \n",
       "34            0.0  \n",
       "546           0.0  \n",
       "1058          0.0  \n",
       "1570          0.0  \n",
       "2082          0.0  \n",
       "...           ...  \n",
       "284302        0.0  \n",
       "284616        0.0  \n",
       "284930        0.0  \n",
       "285244        0.0  \n",
       "285558        0.0  \n",
       "\n",
       "[739 rows x 14 columns]"
      ]
     },
     "execution_count": 6,
     "metadata": {},
     "output_type": "execute_result"
    }
   ],
   "source": [
    "adwiya_data = data[data['VALEUR'] == 'ADWYA']\n",
    "adwiya_data = adwiya_data.assign(CLOTURE=pd.to_numeric(adwiya_data['CLOTURE']))\n",
    "rendement = np.zeros_like(adwiya_data['CLOTURE'])\n",
    "adwiya_data = adwiya_data.assign(RENDEMENT=rendement)\n",
    "index_nb_trans_zero = adwiya_data.index[adwiya_data['NB_TRANSACTION'] == 0].tolist()\n",
    "adwiya_data = adwiya_data.drop(index_nb_trans_zero)\n",
    "adwiya_data.loc[adwiya_data['NB_TRANSACTION'] == 0,]\n",
    "adwiya_data['SEANCE'] = adwiya_data['SEANCE'].astype(str)\n",
    "adwiya_data"
   ]
  },
  {
   "cell_type": "code",
   "execution_count": 7,
   "metadata": {},
   "outputs": [
    {
     "data": {
      "text/html": [
       "<div>\n",
       "<style scoped>\n",
       "    .dataframe tbody tr th:only-of-type {\n",
       "        vertical-align: middle;\n",
       "    }\n",
       "\n",
       "    .dataframe tbody tr th {\n",
       "        vertical-align: top;\n",
       "    }\n",
       "\n",
       "    .dataframe thead th {\n",
       "        text-align: right;\n",
       "    }\n",
       "</style>\n",
       "<table border=\"1\" class=\"dataframe\">\n",
       "  <thead>\n",
       "    <tr style=\"text-align: right;\">\n",
       "      <th></th>\n",
       "      <th>SEANCE</th>\n",
       "      <th>GROUPE</th>\n",
       "      <th>CODE</th>\n",
       "      <th>VALEUR</th>\n",
       "      <th>OUVERTURE</th>\n",
       "      <th>CLOTURE</th>\n",
       "      <th>PLUS_BAS</th>\n",
       "      <th>PLUS_HAUT</th>\n",
       "      <th>QUANTITE_NEGOCIEE</th>\n",
       "      <th>NB_TRANSACTION</th>\n",
       "      <th>CAPITAUX</th>\n",
       "      <th>IND_RES</th>\n",
       "      <th>DIVIDENDE</th>\n",
       "      <th>RENDEMENT</th>\n",
       "    </tr>\n",
       "  </thead>\n",
       "  <tbody>\n",
       "    <tr>\n",
       "      <th>176710</th>\n",
       "      <td>31/07/18</td>\n",
       "      <td>11</td>\n",
       "      <td>725001</td>\n",
       "      <td>ADWYA</td>\n",
       "      <td>5.66</td>\n",
       "      <td>5.8</td>\n",
       "      <td>5.66</td>\n",
       "      <td>5.82</td>\n",
       "      <td>1349</td>\n",
       "      <td>8</td>\n",
       "      <td>7804.52</td>\n",
       "      <td>NaN</td>\n",
       "      <td>0.15</td>\n",
       "      <td>0.0</td>\n",
       "    </tr>\n",
       "  </tbody>\n",
       "</table>\n",
       "</div>"
      ],
      "text/plain": [
       "          SEANCE GROUPE    CODE VALEUR OUVERTURE  CLOTURE PLUS_BAS PLUS_HAUT  \\\n",
       "176710  31/07/18     11  725001  ADWYA      5.66      5.8     5.66      5.82   \n",
       "\n",
       "       QUANTITE_NEGOCIEE NB_TRANSACTION CAPITAUX IND_RES  DIVIDENDE  RENDEMENT  \n",
       "176710              1349              8  7804.52     NaN       0.15        0.0  "
      ]
     },
     "execution_count": 7,
     "metadata": {},
     "output_type": "execute_result"
    }
   ],
   "source": [
    "adwiya_data['DIVIDENDE'] = 0.0\n",
    "adwiya_data.loc[adwiya_data['SEANCE'] == '31/07/18','DIVIDENDE']=0.150\n",
    "adwiya_data.loc[adwiya_data['SEANCE'] == '07/08/2019','DIVIDENDE']=0.100\n",
    "adwiya_data.loc[adwiya_data['DIVIDENDE']>0]"
   ]
  },
  {
   "cell_type": "code",
   "execution_count": 8,
   "metadata": {},
   "outputs": [],
   "source": [
    "rendemnt_cal = np.log((adwiya_data['CLOTURE']/adwiya_data['CLOTURE'].shift(1)))\n",
    "adwiya_data['RENDEMENT'] = rendemnt_cal\n",
    "rt = np.nanmean(adwiya_data['RENDEMENT'])\n",
    "sum_r_rbarre = np.sum((adwiya_data['RENDEMENT'] - rt)**2)\n",
    "sigma_squared = 250/(len(adwiya_data)-1) * sum_r_rbarre\n",
    "sigma = np.sqrt(sigma_squared)\n",
    "mu = 0.5 * sigma_squared + rt *250\n",
    "\n"
   ]
  },
  {
   "cell_type": "code",
   "execution_count": 9,
   "metadata": {},
   "outputs": [
    {
     "name": "stdout",
     "output_type": "stream",
     "text": [
      "rt=-0.001224406874816235\n",
      "sigma_squared=0.046349702323740964\n",
      "sigma=0.21528981007874237\n",
      "mu=-0.2829268675421883\n"
     ]
    }
   ],
   "source": [
    "var = {'rt':rt , 'sigma_squared':sigma_squared , 'sigma':sigma , 'mu':mu}\n",
    "for var , value in var.items():\n",
    "    print (var + \"=\" + str(value))"
   ]
  },
  {
   "cell_type": "code",
   "execution_count": 10,
   "metadata": {},
   "outputs": [
    {
     "data": {
      "text/plain": [
       "34             NaN\n",
       "546       0.001594\n",
       "1058      0.003180\n",
       "1570      0.000000\n",
       "2082      0.000000\n",
       "            ...   \n",
       "284302   -0.019418\n",
       "284616    0.000000\n",
       "284930    0.000000\n",
       "285244    0.000000\n",
       "285558   -0.003929\n",
       "Name: RENDEMENT, Length: 739, dtype: float64"
      ]
     },
     "execution_count": 10,
     "metadata": {},
     "output_type": "execute_result"
    }
   ],
   "source": [
    "adwiya_data.RENDEMENT=adwiya_data.RENDEMENT.replace([np.inf,np.inf],0)\n",
    "adwiya_data.RENDEMENT"
   ]
  },
  {
   "cell_type": "code",
   "execution_count": 11,
   "metadata": {},
   "outputs": [
    {
     "data": {
      "text/plain": [
       "34        0.000000\n",
       "546       0.001594\n",
       "1058      0.003180\n",
       "1570      0.000000\n",
       "2082      0.000000\n",
       "            ...   \n",
       "284302   -0.019418\n",
       "284616    0.000000\n",
       "284930    0.000000\n",
       "285244    0.000000\n",
       "285558   -0.003929\n",
       "Name: RENDEMENT, Length: 739, dtype: float64"
      ]
     },
     "execution_count": 11,
     "metadata": {},
     "output_type": "execute_result"
    }
   ],
   "source": [
    "adwiya_data.RENDEMENT=adwiya_data.RENDEMENT.replace(np.nan,0)\n",
    "adwiya_data.RENDEMENT"
   ]
  },
  {
   "cell_type": "code",
   "execution_count": 12,
   "metadata": {},
   "outputs": [
    {
     "data": {
      "text/plain": [
       "(0.9639519453048706, 1.6258334739269187e-12)"
      ]
     },
     "execution_count": 12,
     "metadata": {},
     "output_type": "execute_result"
    }
   ],
   "source": [
    "stats.shapiro(adwiya_data.RENDEMENT)"
   ]
  },
  {
   "cell_type": "code",
   "execution_count": 13,
   "metadata": {},
   "outputs": [
    {
     "data": {
      "text/plain": [
       "(47.32202267608028, 5.298506078332821e-11)"
      ]
     },
     "execution_count": 13,
     "metadata": {},
     "output_type": "execute_result"
    }
   ],
   "source": [
    "stats.jarque_bera(adwiya_data.RENDEMENT)"
   ]
  },
  {
   "cell_type": "code",
   "execution_count": 14,
   "metadata": {},
   "outputs": [
    {
     "data": {
      "text/plain": [
       "34             NaN\n",
       "546       0.001594\n",
       "1058      0.003180\n",
       "1570      0.000000\n",
       "2082      0.000000\n",
       "            ...   \n",
       "284302   -0.019418\n",
       "284616    0.000000\n",
       "284930    0.000000\n",
       "285244    0.000000\n",
       "285558   -0.003929\n",
       "Name: CLOTURE, Length: 739, dtype: float64"
      ]
     },
     "execution_count": 14,
     "metadata": {},
     "output_type": "execute_result"
    }
   ],
   "source": [
    "rendemnt_cal = np.log((adwiya_data['CLOTURE']/adwiya_data['CLOTURE'].shift(1)))\n",
    "rendemnt_cal"
   ]
  },
  {
   "cell_type": "code",
   "execution_count": 15,
   "metadata": {},
   "outputs": [
    {
     "data": {
      "text/plain": [
       "-0.0012227500319545081"
      ]
     },
     "execution_count": 15,
     "metadata": {},
     "output_type": "execute_result"
    }
   ],
   "source": [
    "rt = np.nanmean(adwiya_data['RENDEMENT'])\n",
    "rt"
   ]
  },
  {
   "cell_type": "code",
   "execution_count": 16,
   "metadata": {},
   "outputs": [
    {
     "data": {
      "text/plain": [
       "0.046350209486188565"
      ]
     },
     "execution_count": 16,
     "metadata": {},
     "output_type": "execute_result"
    }
   ],
   "source": [
    "sum_r_rbarre = np.sum((adwiya_data['RENDEMENT'] - rt)**2)\n",
    "sigma_squared = 250/(len(adwiya_data)-1) * sum_r_rbarre\n",
    "sigma_squared "
   ]
  },
  {
   "cell_type": "code",
   "execution_count": 17,
   "metadata": {},
   "outputs": [
    {
     "data": {
      "text/html": [
       "<div>\n",
       "<style scoped>\n",
       "    .dataframe tbody tr th:only-of-type {\n",
       "        vertical-align: middle;\n",
       "    }\n",
       "\n",
       "    .dataframe tbody tr th {\n",
       "        vertical-align: top;\n",
       "    }\n",
       "\n",
       "    .dataframe thead th {\n",
       "        text-align: right;\n",
       "    }\n",
       "</style>\n",
       "<table border=\"1\" class=\"dataframe\">\n",
       "  <thead>\n",
       "    <tr style=\"text-align: right;\">\n",
       "      <th></th>\n",
       "      <th>SEANCE</th>\n",
       "      <th>GROUPE</th>\n",
       "      <th>CODE</th>\n",
       "      <th>VALEUR</th>\n",
       "      <th>OUVERTURE</th>\n",
       "      <th>CLOTURE</th>\n",
       "      <th>PLUS_BAS</th>\n",
       "      <th>PLUS_HAUT</th>\n",
       "      <th>QUANTITE_NEGOCIEE</th>\n",
       "      <th>NB_TRANSACTION</th>\n",
       "      <th>CAPITAUX</th>\n",
       "      <th>IND_RES</th>\n",
       "      <th>DIVIDENDE</th>\n",
       "      <th>RENDEMENT</th>\n",
       "    </tr>\n",
       "  </thead>\n",
       "  <tbody>\n",
       "    <tr>\n",
       "      <th>34</th>\n",
       "      <td>2017-02-01 00:00:00</td>\n",
       "      <td>11</td>\n",
       "      <td>725001</td>\n",
       "      <td>ADWYA</td>\n",
       "      <td>6.37</td>\n",
       "      <td>6.27</td>\n",
       "      <td>6.27</td>\n",
       "      <td>6.37</td>\n",
       "      <td>148</td>\n",
       "      <td>3</td>\n",
       "      <td>941.26</td>\n",
       "      <td>NaN</td>\n",
       "      <td>0.0</td>\n",
       "      <td>0.000000</td>\n",
       "    </tr>\n",
       "    <tr>\n",
       "      <th>546</th>\n",
       "      <td>2017-03-01 00:00:00</td>\n",
       "      <td>11</td>\n",
       "      <td>725001</td>\n",
       "      <td>ADWYA</td>\n",
       "      <td>6.28</td>\n",
       "      <td>6.28</td>\n",
       "      <td>6.28</td>\n",
       "      <td>6.28</td>\n",
       "      <td>534</td>\n",
       "      <td>5</td>\n",
       "      <td>3353.52</td>\n",
       "      <td>NaN</td>\n",
       "      <td>0.0</td>\n",
       "      <td>0.001594</td>\n",
       "    </tr>\n",
       "    <tr>\n",
       "      <th>1058</th>\n",
       "      <td>2017-04-01 00:00:00</td>\n",
       "      <td>11</td>\n",
       "      <td>725001</td>\n",
       "      <td>ADWYA</td>\n",
       "      <td>6.38</td>\n",
       "      <td>6.30</td>\n",
       "      <td>6.3</td>\n",
       "      <td>6.38</td>\n",
       "      <td>3428</td>\n",
       "      <td>14</td>\n",
       "      <td>21732.2</td>\n",
       "      <td>NaN</td>\n",
       "      <td>0.0</td>\n",
       "      <td>0.003180</td>\n",
       "    </tr>\n",
       "    <tr>\n",
       "      <th>1570</th>\n",
       "      <td>2017-05-01 00:00:00</td>\n",
       "      <td>11</td>\n",
       "      <td>725001</td>\n",
       "      <td>ADWYA</td>\n",
       "      <td>6.3</td>\n",
       "      <td>6.30</td>\n",
       "      <td>6.22</td>\n",
       "      <td>6.3</td>\n",
       "      <td>3724</td>\n",
       "      <td>22</td>\n",
       "      <td>23373.9</td>\n",
       "      <td>NaN</td>\n",
       "      <td>0.0</td>\n",
       "      <td>0.000000</td>\n",
       "    </tr>\n",
       "    <tr>\n",
       "      <th>2082</th>\n",
       "      <td>2017-06-01 00:00:00</td>\n",
       "      <td>11</td>\n",
       "      <td>725001</td>\n",
       "      <td>ADWYA</td>\n",
       "      <td>6.29</td>\n",
       "      <td>6.30</td>\n",
       "      <td>6.23</td>\n",
       "      <td>6.35</td>\n",
       "      <td>1813</td>\n",
       "      <td>11</td>\n",
       "      <td>11445.7</td>\n",
       "      <td>NaN</td>\n",
       "      <td>0.0</td>\n",
       "      <td>0.000000</td>\n",
       "    </tr>\n",
       "    <tr>\n",
       "      <th>...</th>\n",
       "      <td>...</td>\n",
       "      <td>...</td>\n",
       "      <td>...</td>\n",
       "      <td>...</td>\n",
       "      <td>...</td>\n",
       "      <td>...</td>\n",
       "      <td>...</td>\n",
       "      <td>...</td>\n",
       "      <td>...</td>\n",
       "      <td>...</td>\n",
       "      <td>...</td>\n",
       "      <td>...</td>\n",
       "      <td>...</td>\n",
       "      <td>...</td>\n",
       "    </tr>\n",
       "    <tr>\n",
       "      <th>284302</th>\n",
       "      <td>2019-12-25 00:00:00</td>\n",
       "      <td>11</td>\n",
       "      <td>725001</td>\n",
       "      <td>ADWYA</td>\n",
       "      <td>2.6</td>\n",
       "      <td>2.55</td>\n",
       "      <td>2.53</td>\n",
       "      <td>2.6</td>\n",
       "      <td>42526</td>\n",
       "      <td>88</td>\n",
       "      <td>108731</td>\n",
       "      <td>NaN</td>\n",
       "      <td>0.0</td>\n",
       "      <td>-0.019418</td>\n",
       "    </tr>\n",
       "    <tr>\n",
       "      <th>284616</th>\n",
       "      <td>2019-12-26 00:00:00</td>\n",
       "      <td>11</td>\n",
       "      <td>725001</td>\n",
       "      <td>ADWYA</td>\n",
       "      <td>2.59</td>\n",
       "      <td>2.55</td>\n",
       "      <td>2.52</td>\n",
       "      <td>2.59</td>\n",
       "      <td>1985</td>\n",
       "      <td>14</td>\n",
       "      <td>5003.43</td>\n",
       "      <td>NaN</td>\n",
       "      <td>0.0</td>\n",
       "      <td>0.000000</td>\n",
       "    </tr>\n",
       "    <tr>\n",
       "      <th>284930</th>\n",
       "      <td>2019-12-27 00:00:00</td>\n",
       "      <td>11</td>\n",
       "      <td>725001</td>\n",
       "      <td>ADWYA</td>\n",
       "      <td>2.62</td>\n",
       "      <td>2.55</td>\n",
       "      <td>2.55</td>\n",
       "      <td>2.69</td>\n",
       "      <td>223</td>\n",
       "      <td>12</td>\n",
       "      <td>576.66</td>\n",
       "      <td>NaN</td>\n",
       "      <td>0.0</td>\n",
       "      <td>0.000000</td>\n",
       "    </tr>\n",
       "    <tr>\n",
       "      <th>285244</th>\n",
       "      <td>2019-12-30 00:00:00</td>\n",
       "      <td>11</td>\n",
       "      <td>725001</td>\n",
       "      <td>ADWYA</td>\n",
       "      <td>2.62</td>\n",
       "      <td>2.55</td>\n",
       "      <td>2.55</td>\n",
       "      <td>2.65</td>\n",
       "      <td>1527</td>\n",
       "      <td>16</td>\n",
       "      <td>3935.55</td>\n",
       "      <td>NaN</td>\n",
       "      <td>0.0</td>\n",
       "      <td>0.000000</td>\n",
       "    </tr>\n",
       "    <tr>\n",
       "      <th>285558</th>\n",
       "      <td>2019-12-31 00:00:00</td>\n",
       "      <td>11</td>\n",
       "      <td>725001</td>\n",
       "      <td>ADWYA</td>\n",
       "      <td>2.55</td>\n",
       "      <td>2.54</td>\n",
       "      <td>2.5</td>\n",
       "      <td>2.55</td>\n",
       "      <td>166046</td>\n",
       "      <td>123</td>\n",
       "      <td>415163</td>\n",
       "      <td>NaN</td>\n",
       "      <td>0.0</td>\n",
       "      <td>-0.003929</td>\n",
       "    </tr>\n",
       "  </tbody>\n",
       "</table>\n",
       "<p>739 rows × 14 columns</p>\n",
       "</div>"
      ],
      "text/plain": [
       "                     SEANCE GROUPE    CODE VALEUR OUVERTURE  CLOTURE PLUS_BAS  \\\n",
       "34      2017-02-01 00:00:00     11  725001  ADWYA      6.37     6.27     6.27   \n",
       "546     2017-03-01 00:00:00     11  725001  ADWYA      6.28     6.28     6.28   \n",
       "1058    2017-04-01 00:00:00     11  725001  ADWYA      6.38     6.30      6.3   \n",
       "1570    2017-05-01 00:00:00     11  725001  ADWYA       6.3     6.30     6.22   \n",
       "2082    2017-06-01 00:00:00     11  725001  ADWYA      6.29     6.30     6.23   \n",
       "...                     ...    ...     ...    ...       ...      ...      ...   \n",
       "284302  2019-12-25 00:00:00     11  725001  ADWYA       2.6     2.55     2.53   \n",
       "284616  2019-12-26 00:00:00     11  725001  ADWYA      2.59     2.55     2.52   \n",
       "284930  2019-12-27 00:00:00     11  725001  ADWYA      2.62     2.55     2.55   \n",
       "285244  2019-12-30 00:00:00     11  725001  ADWYA      2.62     2.55     2.55   \n",
       "285558  2019-12-31 00:00:00     11  725001  ADWYA      2.55     2.54      2.5   \n",
       "\n",
       "       PLUS_HAUT QUANTITE_NEGOCIEE NB_TRANSACTION CAPITAUX IND_RES  DIVIDENDE  \\\n",
       "34          6.37               148              3   941.26     NaN        0.0   \n",
       "546         6.28               534              5  3353.52     NaN        0.0   \n",
       "1058        6.38              3428             14  21732.2     NaN        0.0   \n",
       "1570         6.3              3724             22  23373.9     NaN        0.0   \n",
       "2082        6.35              1813             11  11445.7     NaN        0.0   \n",
       "...          ...               ...            ...      ...     ...        ...   \n",
       "284302       2.6             42526             88   108731     NaN        0.0   \n",
       "284616      2.59              1985             14  5003.43     NaN        0.0   \n",
       "284930      2.69               223             12   576.66     NaN        0.0   \n",
       "285244      2.65              1527             16  3935.55     NaN        0.0   \n",
       "285558      2.55            166046            123   415163     NaN        0.0   \n",
       "\n",
       "        RENDEMENT  \n",
       "34       0.000000  \n",
       "546      0.001594  \n",
       "1058     0.003180  \n",
       "1570     0.000000  \n",
       "2082     0.000000  \n",
       "...           ...  \n",
       "284302  -0.019418  \n",
       "284616   0.000000  \n",
       "284930   0.000000  \n",
       "285244   0.000000  \n",
       "285558  -0.003929  \n",
       "\n",
       "[739 rows x 14 columns]"
      ]
     },
     "execution_count": 17,
     "metadata": {},
     "output_type": "execute_result"
    }
   ],
   "source": [
    "adwiya_data"
   ]
  },
  {
   "cell_type": "code",
   "execution_count": 18,
   "metadata": {},
   "outputs": [
    {
     "data": {
      "text/plain": [
       "0.21529098793537216"
      ]
     },
     "execution_count": 18,
     "metadata": {},
     "output_type": "execute_result"
    }
   ],
   "source": [
    "sigma_squared = 250/(len(adwiya_data)-1) * sum_r_rbarre\n",
    "sigma = np.sqrt(sigma_squared)\n",
    "sigma"
   ]
  },
  {
   "cell_type": "code",
   "execution_count": 19,
   "metadata": {},
   "outputs": [
    {
     "data": {
      "text/plain": [
       "-0.28251240324553273"
      ]
     },
     "execution_count": 19,
     "metadata": {},
     "output_type": "execute_result"
    }
   ],
   "source": [
    "mu = 0.5 * sigma_squared + rt *250\n",
    "mu"
   ]
  },
  {
   "cell_type": "code",
   "execution_count": 20,
   "metadata": {},
   "outputs": [
    {
     "name": "stderr",
     "output_type": "stream",
     "text": [
      "C:\\Users\\ASMA\\anaconda3\\lib\\site-packages\\statsmodels\\stats\\diagnostic.py:524: FutureWarning: The value returned will change to a single DataFrame after 0.12 is released.  Set return_df to True to use to return a DataFrame now.  Set return_df to False to silence this warning.\n",
      "  warnings.warn(msg, FutureWarning)\n"
     ]
    },
    {
     "data": {
      "text/plain": [
       "(array([11.78883505, 11.80378703, 12.11405827, 12.12894402, 14.15971112,\n",
       "        14.17912854, 16.05002582, 16.13362354, 16.1660383 , 17.89265654]),\n",
       " array([0.00059587, 0.00273426, 0.00700248, 0.01641773, 0.01462611,\n",
       "        0.02769796, 0.02466323, 0.04050699, 0.0634942 , 0.0568016 ]))"
      ]
     },
     "execution_count": 20,
     "metadata": {},
     "output_type": "execute_result"
    }
   ],
   "source": [
    "acorr_ljungbox(adwiya_data['RENDEMENT'].replace(np.nan, 0.0 ) , lags= 5)\n",
    "acorr_ljungbox(adwiya_data['RENDEMENT'].replace(np.nan, 0.0 ) , lags= 10)"
   ]
  },
  {
   "cell_type": "code",
   "execution_count": 21,
   "metadata": {},
   "outputs": [
    {
     "data": {
      "image/png": "[encoded data removed]",
      "text/plain": [
       "<Figure size 432x288 with 1 Axes>"
      ]
     },
     "metadata": {},
     "output_type": "display_data"
    }
   ],
   "source": [
    "sns.scatterplot(x = 'SEANCE' , y= 'RENDEMENT' , data=adwiya_data )\n",
    "plt.show()"
   ]
  },
  {
   "cell_type": "code",
   "execution_count": 22,
   "metadata": {},
   "outputs": [
    {
     "data": {
      "text/plain": [
       "(0.9639519453048706, 1.6258334739269187e-12)"
      ]
     },
     "execution_count": 22,
     "metadata": {},
     "output_type": "execute_result"
    }
   ],
   "source": [
    "stats.shapiro(adwiya_data['RENDEMENT'].replace(np.nan, 0.0))"
   ]
  },
  {
   "cell_type": "code",
   "execution_count": 23,
   "metadata": {},
   "outputs": [
    {
     "data": {
      "text/plain": [
       "<matplotlib.axes._subplots.AxesSubplot at 0x204e30ce408>"
      ]
     },
     "execution_count": 23,
     "metadata": {},
     "output_type": "execute_result"
    },
    {
     "data": {
      "image/png": "[encoded data removed]",
      "text/plain": [
       "<Figure size 432x288 with 1 Axes>"
      ]
     },
     "metadata": {},
     "output_type": "display_data"
    }
   ],
   "source": [
    "sns.distplot(adwiya_data['RENDEMENT'].replace(np.nan, 0.0) , hist = False)"
   ]
  },
  {
   "cell_type": "code",
   "execution_count": 24,
   "metadata": {},
   "outputs": [
    {
     "data": {
      "text/plain": [
       "96.34591436457647"
      ]
     },
     "execution_count": 24,
     "metadata": {},
     "output_type": "execute_result"
    }
   ],
   "source": [
    "JB=(adwiya_data.shape[0]/6)*(np.square(stats.skew(adwiya_data.RENDEMENT))+(np.square((stats.kurtosis(adwiya_data.RENDEMENT))-3)/4))\n",
    "JB"
   ]
  },
  {
   "cell_type": "code",
   "execution_count": 36,
   "metadata": {},
   "outputs": [
    {
     "data": {
      "text/plain": [
       "2.393729109303333e-05"
      ]
     },
     "execution_count": 36,
     "metadata": {},
     "output_type": "execute_result"
    }
   ],
   "source": [
    "s0 = adwiya_data.iloc[-1]['CLOTURE']\n",
    "k = 6\n",
    "d1 = (np.log(s0/k) + (0.07 + 0.5 * sigma_squared)) * 1/sigma\n",
    "d2 = d1 - sigma\n",
    "prix_achat = s0*stats.norm.cdf(d1) - k*(np.exp(-0.07))*stats.norm.cdf(d2)\n",
    "prix_achat\n"
   ]
  },
  {
   "cell_type": "code",
   "execution_count": 33,
   "metadata": {},
   "outputs": [
    {
     "data": {
      "text/plain": [
       "2.54"
      ]
     },
     "execution_count": 33,
     "metadata": {},
     "output_type": "execute_result"
    }
   ],
   "source": [
    "s0 = adwiya_data.iloc[-1]['CLOTURE']\n"
   ]
  },
  {
   "cell_type": "code",
   "execution_count": 81,
   "metadata": {},
   "outputs": [
    {
     "data": {
      "text/plain": [
       "3.7067866017107096e-06"
      ]
     },
     "execution_count": 81,
     "metadata": {},
     "output_type": "execute_result"
    }
   ],
   "source": [
    "normal = np.random.normal(size=100000)\n",
    "normal\n",
    "s = s0 * np.exp((0.07 - sigma_squared/2) + sigma * normal)\n",
    "xx = np.maximum((s - k), 0)\n",
    "prix_achat2 = np.mean(xx) * np.exp(-0.07)\n",
    "prix_achat2\n"
   ]
  }
 ],
 "metadata": {
  "kernelspec": {
   "display_name": "Python 3",
   "language": "python",
   "name": "python3"
  },
  "language_info": {
   "codemirror_mode": {
    "name": "ipython",
    "version": 3
   },
   "file_extension": ".py",
   "mimetype": "text/x-python",
   "name": "python",
   "nbconvert_exporter": "python",
   "pygments_lexer": "ipython3",
   "version": "3.7.6"
  }
 },
 "nbformat": 4,
 "nbformat_minor": 4
}
